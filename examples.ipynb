{
 "cells": [
  {
   "cell_type": "code",
   "execution_count": 21,
   "metadata": {},
   "outputs": [],
   "source": [
    "%run frieze.py"
   ]
  },
  {
   "cell_type": "code",
   "execution_count": 22,
   "metadata": {},
   "outputs": [
    {
     "name": "stdout",
     "output_type": "stream",
     "text": [
      "  0   0   0   0   0   0   0   0   0   0\n",
      "    1   1   1   1   1   1   1   1   1   1\n",
      "      2   1   5   2   1   5   1   2   3   2\n",
      "        1   4   9   1   4   4   1   5   5   3\n",
      "          3   7   4   3   3   3   2   8   7   1\n",
      "            5   3  11   2   2   5   3  11   2   2\n",
      "              2   8   7   1   3   7   4   3   3   3\n",
      "                5   5   3   1   4   9   1   4   4   1\n",
      "                  3   2   2   1   5   2   1   5   1   2\n",
      "                    1   1   1   1   1   1   1   1   1   1\n",
      "                      0   0   0   0   0   0   0   0   0   0\n"
     ]
    }
   ],
   "source": [
    "# To input the slope-negative-one diagonal, use 'diag' input type.\n",
    "# Do not include the trivial 1s at either end of the slice.\n",
    "# We didn't implement inserting the slope-positive-one diagonal slice yet.\n",
    "fig2_diag = print_frieze(inputtype = 'diag', input_row=(2,1,3,5,2,5,3),leftstart = 0,width = 10, friezerow = 11)\n",
    "print(fig2_diag)"
   ]
  },
  {
   "cell_type": "code",
   "execution_count": 23,
   "metadata": {},
   "outputs": [
    {
     "name": "stdout",
     "output_type": "stream",
     "text": [
      "  0   0   0   0   0   0   0   0   0   0   0   0   0   0   0\n",
      "    1   1   1   1   1   1   1   1   1   1   1   1   1   1   1\n",
      "      2   1   5   2   1   5   1   2   3   2   2   1   5   2   1\n",
      "        1   4   9   1   4   4   1   5   5   3   1   4   9   1   4\n",
      "          3   7   4   3   3   3   2   8   7   1   3   7   4   3   3\n",
      "            5   3  11   2   2   5   3  11   2   2   5   3  11   2   2\n",
      "              2   8   7   1   3   7   4   3   3   3   2   8   7   1   3\n",
      "                5   5   3   1   4   9   1   4   4   1   5   5   3   1   4\n",
      "                  3   2   2   1   5   2   1   5   1   2   3   2   2   1   5\n",
      "                    1   1   1   1   1   1   1   1   1   1   1   1   1   1   1\n",
      "                      0   0   0   0   0   0   0   0   0   0   0   0   0   0   0\n"
     ]
    }
   ],
   "source": [
    "# To input the quiddity row, use 'quid' input type\n",
    "fig2_quiddity = print_frieze(inputtype = 'quid', input_row=(2, 1, 5, 2, 1, 5, 1, 2, 3, 2),leftstart = 0,width = 15, friezerow = 11)\n",
    "print(fig2_quiddity)"
   ]
  },
  {
   "cell_type": "code",
   "execution_count": 24,
   "metadata": {},
   "outputs": [
    {
     "name": "stdout",
     "output_type": "stream",
     "text": [
      "  0   0   0   0   0   0   0   0   0   0\n",
      "    1   1   1   1   1   1   1   1   1   1\n",
      "      2   4   1   2   2   4   1   2   2   4\n",
      "        7   3   1   3   7   3   1   3   7   3\n",
      "          5   2   1  10   5   2   1  10   5   2\n",
      "            3   1   3   7   3   1   3   7   3   1\n",
      "              1   2   2   4   1   2   2   4   1   2\n",
      "                1   1   1   1   1   1   1   1   1   1\n",
      "                  0   0   0   0   0   0   0   0   0   0\n",
      "                  \n",
      "                    \n"
     ]
    }
   ],
   "source": [
    "fig2_quiddity = print_frieze(inputtype = 'quid', input_row=(2,4,1,2,2,4,1,2),leftstart = 0,width = 10, friezerow = 11)\n",
    "print(fig2_quiddity)"
   ]
  },
  {
   "cell_type": "code",
   "execution_count": 25,
   "metadata": {},
   "outputs": [
    {
     "name": "stdout",
     "output_type": "stream",
     "text": [
      "  0   0   0   0   0   0   0   0   0   0\n",
      "    1   1   1   1   1   1   1   1   1   1\n",
      "      3   1   3   1   3   1   3   1   3   1\n",
      "        2   2   2   2   2   2   2   2   2   2\n",
      "          3   1   3   1   3   1   3   1   3   1\n",
      "            1   1   1   1   1   1   1   1   1   1\n",
      "              0   0   0   0   0   0   0   0   0   0\n",
      "              \n",
      "                \n",
      "                  \n",
      "                    \n"
     ]
    }
   ],
   "source": [
    "fig2_quiddity = print_frieze(inputtype = 'quid', input_row=(3,1,3,1,3,1),leftstart = 0,width = 10, friezerow = 11)\n",
    "print(fig2_quiddity)"
   ]
  },
  {
   "cell_type": "code",
   "execution_count": 26,
   "metadata": {},
   "outputs": [
    {
     "data": {
      "text/plain": [
       "[0 1 2 3 1 0]\n",
       "[1 0 1 2 1 2]\n",
       "[2 1 0 1 1 3]\n",
       "[3 2 1 0 1 4]\n",
       "[1 1 1 1 0 1]\n",
       "[0 2 3 4 1 0]"
      ]
     },
     "execution_count": 26,
     "metadata": {},
     "output_type": "execute_result"
    }
   ],
   "source": [
    "from sage.matrix.all import matrix\n",
    "#To view as matrix, as in Bessenrodt-Holm-Jorgensen, use matrix(frieze_dict_diag())\n",
    "#Warning: the northeast entry and southwest entry should be 1 \n",
    "#(but right now the matrix gives zero)\n",
    "quid221412 = frieze_dict_quid(quiddity_row=(2,2,1,4,1,2),leftstart = 0,width = 1)\n",
    "matrix(quid221412)"
   ]
  },
  {
   "cell_type": "code",
   "execution_count": 28,
   "metadata": {},
   "outputs": [
    {
     "data": {
      "text/plain": [
       "[0 1 1 1 1 1 0]\n",
       "[1 0 1 2 3 4 1]\n",
       "[1 1 0 1 2 3 1]\n",
       "[1 2 1 0 1 2 1]\n",
       "[1 3 2 1 0 1 1]\n",
       "[1 4 3 2 1 0 1]\n",
       "[0 1 1 1 1 1 0]"
      ]
     },
     "execution_count": 28,
     "metadata": {},
     "output_type": "execute_result"
    }
   ],
   "source": [
    "from sage.matrix.all import matrix\n",
    "#To view as matrix, as in Bessenrodt-Holm-Jorgensen, use matrix(frieze_dict_diag())\n",
    "#Warning: the northeast entry and southwest entry should be 1 \n",
    "#(but right now the matrix gives zero)\n",
    "diag111 = frieze_dict_diag(diag = [1,1,1],width = 1)\n",
    "matrix(diag111)"
   ]
  },
  {
   "cell_type": "code",
   "execution_count": null,
   "metadata": {},
   "outputs": [],
   "source": []
  }
 ],
 "metadata": {
  "kernelspec": {
   "display_name": "SageMath 8.2",
   "language": "",
   "name": "sagemath"
  }
 },
 "nbformat": 4,
 "nbformat_minor": 1
}
