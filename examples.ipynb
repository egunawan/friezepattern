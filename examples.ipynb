{
 "cells": [
  {
   "cell_type": "code",
   "execution_count": 4,
   "metadata": {},
   "outputs": [],
   "source": [
    "%run frieze.py"
   ]
  },
  {
   "cell_type": "code",
   "execution_count": 5,
   "metadata": {},
   "outputs": [
    {
     "name": "stdout",
     "output_type": "stream",
     "text": [
      "  0   0   0   0   0   0   0   0   0   0\n",
      "    1   1   1   1   1   1   1   1   1   1\n",
      "      2   1   5   2   1   5   1   2   3   2\n",
      "        1   4   9   1   4   4   1   5   5   3\n",
      "          3   7   4   3   3   3   2   8   7   1\n",
      "            5   3  11   2   2   5   3  11   2   2\n",
      "              2   8   7   1   3   7   4   3   3   3\n",
      "                5   5   3   1   4   9   1   4   4   1\n",
      "                  3   2   2   1   5   2   1   5   1   2\n",
      "                    1   1   1   1   1   1   1   1   1   1\n",
      "                      0   0   0   0   0   0   0   0   0   0\n"
     ]
    }
   ],
   "source": [
    "# To input the slope-negative-one diagonal, use 'diag' input type.\n",
    "# Do not include the trivial 1s at either end of the slice.\n",
    "# We didn't implement inserting the slope-positive-one diagonal slice yet.\n",
    "fig2_diag = print_frieze(inputtype = 'diag', input_row=(2,1,3,5,2,5,3),leftstart = 0,width = 10, friezerow = 11)\n",
    "print(fig2_diag)"
   ]
  },
  {
   "cell_type": "code",
   "execution_count": 6,
   "metadata": {},
   "outputs": [
    {
     "name": "stdout",
     "output_type": "stream",
     "text": [
      "  0   0   0   0   0   0   0   0   0   0   0   0   0   0   0\n",
      "    1   1   1   1   1   1   1   1   1   1   1   1   1   1   1\n",
      "      2   1   5   2   1   5   1   2   3   2   2   1   5   2   1\n",
      "        1   4   9   1   4   4   1   5   5   3   1   4   9   1   4\n",
      "          3   7   4   3   3   3   2   8   7   1   3   7   4   3   3\n",
      "            5   3  11   2   2   5   3  11   2   2   5   3  11   2   2\n",
      "              2   8   7   1   3   7   4   3   3   3   2   8   7   1   3\n",
      "                5   5   3   1   4   9   1   4   4   1   5   5   3   1   4\n",
      "                  3   2   2   1   5   2   1   5   1   2   3   2   2   1   5\n",
      "                    1   1   1   1   1   1   1   1   1   1   1   1   1   1   1\n",
      "                      0   0   0   0   0   0   0   0   0   0   0   0   0   0   0\n"
     ]
    }
   ],
   "source": [
    "# To input the quiddity row, use 'quid' input type\n",
    "fig2_quiddity = print_frieze(inputtype = 'quid', input_row=(2, 1, 5, 2, 1, 5, 1, 2, 3, 2),leftstart = 0,width = 15, friezerow = 11)\n",
    "print(fig2_quiddity)"
   ]
  },
  {
   "cell_type": "code",
   "execution_count": 7,
   "metadata": {},
   "outputs": [
    {
     "name": "stdout",
     "output_type": "stream",
     "text": [
      "  0   0   0   0   0   0   0   0   0   0\n",
      "    1   1   1   1   1   1   1   1   1   1\n",
      "      2   4   1   2   2   4   1   2   2   4\n",
      "        7   3   1   3   7   3   1   3   7   3\n",
      "          5   2   1  10   5   2   1  10   5   2\n",
      "            3   1   3   7   3   1   3   7   3   1\n",
      "              1   2   2   4   1   2   2   4   1   2\n",
      "                1   1   1   1   1   1   1   1   1   1\n",
      "                  0   0   0   0   0   0   0   0   0   0\n",
      "                  \n",
      "                    \n"
     ]
    }
   ],
   "source": [
    "fig2_quiddity = print_frieze(inputtype = 'quid', input_row=(2,4,1,2,2,4,1,2),leftstart = 0,width = 10, friezerow = 11)\n",
    "print(fig2_quiddity)"
   ]
  },
  {
   "cell_type": "raw",
   "metadata": {},
   "source": []
  },
  {
   "cell_type": "raw",
   "metadata": {},
   "source": []
  },
  {
   "cell_type": "code",
   "execution_count": null,
   "metadata": {},
   "outputs": [],
   "source": []
  },
  {
   "cell_type": "code",
   "execution_count": 8,
   "metadata": {},
   "outputs": [
    {
     "name": "stdout",
     "output_type": "stream",
     "text": [
      "  0   0   0   0   0   0   0   0   0   0\n",
      "    1   1   1   1   1   1   1   1   1   1\n",
      "      3   1   3   1   3   1   3   1   3   1\n",
      "        2   2   2   2   2   2   2   2   2   2\n",
      "          3   1   3   1   3   1   3   1   3   1\n",
      "            1   1   1   1   1   1   1   1   1   1\n",
      "              0   0   0   0   0   0   0   0   0   0\n",
      "              \n",
      "                \n",
      "                  \n",
      "                    \n"
     ]
    }
   ],
   "source": [
    "fig2_quiddity = print_frieze(inputtype = 'quid', input_row=(3,1,3,1,3,1),leftstart = 0,width = 10, friezerow = 11)\n",
    "print(fig2_quiddity)"
   ]
  },
  {
   "cell_type": "code",
   "execution_count": null,
   "metadata": {},
   "outputs": [],
   "source": []
  }
 ],
 "metadata": {
  "kernelspec": {
   "display_name": "SageMath 8.2",
   "language": "",
   "name": "sagemath"
  },
  "language_info": {
   "codemirror_mode": {
    "name": "ipython",
    "version": 2
   },
   "file_extension": ".py",
   "mimetype": "text/x-python",
   "name": "python",
   "nbconvert_exporter": "python",
   "pygments_lexer": "ipython2",
   "version": "2.7.14"
  }
 },
 "nbformat": 4,
 "nbformat_minor": 1
}
